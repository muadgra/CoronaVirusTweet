{
  "nbformat": 4,
  "nbformat_minor": 0,
  "metadata": {
    "colab": {
      "name": "B171210033.ipynb",
      "provenance": [],
      "collapsed_sections": []
    },
    "kernelspec": {
      "name": "python3",
      "display_name": "Python 3"
    },
    "language_info": {
      "name": "python"
    }
  },
  "cells": [
    {
      "cell_type": "markdown",
      "metadata": {
        "id": "HyPnzCVwTP56"
      },
      "source": [
        "**Sakarya Üniversitesi**\n",
        "\n",
        "**Bilgisayar Mühendisliği Bölümü**\n",
        "\n",
        "**B171210033 - Mertcan Gökmen**"
      ]
    },
    {
      "cell_type": "markdown",
      "metadata": {
        "id": "lM3jd9qNT1Iq"
      },
      "source": [
        "# **Veri Seti ve Problem Tanımı**\n",
        "\n",
        "Metin sınıflandırması; spam tespiti, duygu analizi, yorum sınıflandırması gibi çeşitli alanlarda kullanılan bir sınıflandırmadır. Bu sınıflandırma, içerisinde ileti barındıran bütün uygulamalarda kullanılıp, kullanıcılara daha iyi bir internet deneyimi sunulmasını sağlar. \n",
        "\n",
        "Kaggle üzerinde bulunan \"Coronavirus Tweets NLP - Text Classification\" veri setinden yararlanarak yaptığım bu projede amacım, Korona Virüs döneminde insanların attıkları tweetlerle, onların yorumlarındaki olumluluğu sınıflandırmaktır.\n",
        "\n",
        "Kullandığım veri seti: https://www.kaggle.com/datatattle/covid-19-nlp-text-classification\n",
        "\n",
        "Veri setinde yalnızca Corona_NLP_train.csv içerisindeki verileri kullandım."
      ]
    },
    {
      "cell_type": "code",
      "metadata": {
        "id": "erQPMH6abyOt"
      },
      "source": [
        "import pandas as pd\n",
        "import numpy as np\n",
        "import matplotlib.pyplot as plt"
      ],
      "execution_count": null,
      "outputs": []
    },
    {
      "cell_type": "code",
      "metadata": {
        "id": "1xnKaL4mcs-k",
        "colab": {
          "base_uri": "https://localhost:8080/",
          "height": 206
        },
        "outputId": "aca08abf-a2e8-4a75-e4de-1e29f8165347"
      },
      "source": [
        "#Veri CSV dosyasından okunuyor. Veri setinde bulunan özel karakterleri de okuması adına, özellikle encoding türünü verdim.\n",
        "data = pd.read_csv('Corona_NLP_train.csv', encoding = \"ISO-8859-1\")\n",
        "#İlk beş satırdaki verileri göster.\n",
        "data.head()"
      ],
      "execution_count": null,
      "outputs": [
        {
          "output_type": "execute_result",
          "data": {
            "text/html": [
              "<div>\n",
              "<style scoped>\n",
              "    .dataframe tbody tr th:only-of-type {\n",
              "        vertical-align: middle;\n",
              "    }\n",
              "\n",
              "    .dataframe tbody tr th {\n",
              "        vertical-align: top;\n",
              "    }\n",
              "\n",
              "    .dataframe thead th {\n",
              "        text-align: right;\n",
              "    }\n",
              "</style>\n",
              "<table border=\"1\" class=\"dataframe\">\n",
              "  <thead>\n",
              "    <tr style=\"text-align: right;\">\n",
              "      <th></th>\n",
              "      <th>UserName</th>\n",
              "      <th>ScreenName</th>\n",
              "      <th>Location</th>\n",
              "      <th>TweetAt</th>\n",
              "      <th>OriginalTweet</th>\n",
              "      <th>Sentiment</th>\n",
              "    </tr>\n",
              "  </thead>\n",
              "  <tbody>\n",
              "    <tr>\n",
              "      <th>0</th>\n",
              "      <td>3799</td>\n",
              "      <td>48751</td>\n",
              "      <td>London</td>\n",
              "      <td>16-03-2020</td>\n",
              "      <td>@MeNyrbie @Phil_Gahan @Chrisitv https://t.co/i...</td>\n",
              "      <td>Neutral</td>\n",
              "    </tr>\n",
              "    <tr>\n",
              "      <th>1</th>\n",
              "      <td>3800</td>\n",
              "      <td>48752</td>\n",
              "      <td>UK</td>\n",
              "      <td>16-03-2020</td>\n",
              "      <td>advice Talk to your neighbours family to excha...</td>\n",
              "      <td>Positive</td>\n",
              "    </tr>\n",
              "    <tr>\n",
              "      <th>2</th>\n",
              "      <td>3801</td>\n",
              "      <td>48753</td>\n",
              "      <td>Vagabonds</td>\n",
              "      <td>16-03-2020</td>\n",
              "      <td>Coronavirus Australia: Woolworths to give elde...</td>\n",
              "      <td>Positive</td>\n",
              "    </tr>\n",
              "    <tr>\n",
              "      <th>3</th>\n",
              "      <td>3802</td>\n",
              "      <td>48754</td>\n",
              "      <td>NaN</td>\n",
              "      <td>16-03-2020</td>\n",
              "      <td>My food stock is not the only one which is emp...</td>\n",
              "      <td>Positive</td>\n",
              "    </tr>\n",
              "    <tr>\n",
              "      <th>4</th>\n",
              "      <td>3803</td>\n",
              "      <td>48755</td>\n",
              "      <td>NaN</td>\n",
              "      <td>16-03-2020</td>\n",
              "      <td>Me, ready to go at supermarket during the #COV...</td>\n",
              "      <td>Extremely Negative</td>\n",
              "    </tr>\n",
              "  </tbody>\n",
              "</table>\n",
              "</div>"
            ],
            "text/plain": [
              "   UserName  ...           Sentiment\n",
              "0      3799  ...             Neutral\n",
              "1      3800  ...            Positive\n",
              "2      3801  ...            Positive\n",
              "3      3802  ...            Positive\n",
              "4      3803  ...  Extremely Negative\n",
              "\n",
              "[5 rows x 6 columns]"
            ]
          },
          "metadata": {},
          "execution_count": 2
        }
      ]
    },
    {
      "cell_type": "code",
      "metadata": {
        "colab": {
          "base_uri": "https://localhost:8080/"
        },
        "id": "XvJGI2S-p4zQ",
        "outputId": "5eac4885-b5b1-4f55-933e-901aefdfee5a"
      },
      "source": [
        "#Toplam kaç satır veri var?\n",
        "data.shape[0]"
      ],
      "execution_count": null,
      "outputs": [
        {
          "output_type": "execute_result",
          "data": {
            "text/plain": [
              "41157"
            ]
          },
          "metadata": {},
          "execution_count": 3
        }
      ]
    },
    {
      "cell_type": "code",
      "metadata": {
        "colab": {
          "base_uri": "https://localhost:8080/"
        },
        "id": "JiSvOlh0HAnx",
        "outputId": "1dcb6b1b-4b3c-4316-e4bc-378a581b07bb"
      },
      "source": [
        "#Null olmayan kaç veri var ve tipleri neler?\n",
        "data.info()"
      ],
      "execution_count": null,
      "outputs": [
        {
          "output_type": "stream",
          "name": "stdout",
          "text": [
            "<class 'pandas.core.frame.DataFrame'>\n",
            "RangeIndex: 41157 entries, 0 to 41156\n",
            "Data columns (total 6 columns):\n",
            " #   Column         Non-Null Count  Dtype \n",
            "---  ------         --------------  ----- \n",
            " 0   UserName       41157 non-null  int64 \n",
            " 1   ScreenName     41157 non-null  int64 \n",
            " 2   Location       32567 non-null  object\n",
            " 3   TweetAt        41157 non-null  object\n",
            " 4   OriginalTweet  41157 non-null  object\n",
            " 5   Sentiment      41157 non-null  object\n",
            "dtypes: int64(2), object(4)\n",
            "memory usage: 1.9+ MB\n"
          ]
        }
      ]
    },
    {
      "cell_type": "code",
      "metadata": {
        "colab": {
          "base_uri": "https://localhost:8080/"
        },
        "id": "Ps-dhdfymVAv",
        "outputId": "efbbc53c-680b-4103-a729-73adf8cde0f4"
      },
      "source": [
        "#Boş olan alanların tespiti.\n",
        "data.isna().sum()"
      ],
      "execution_count": null,
      "outputs": [
        {
          "output_type": "execute_result",
          "data": {
            "text/plain": [
              "UserName            0\n",
              "ScreenName          0\n",
              "Location         8590\n",
              "TweetAt             0\n",
              "OriginalTweet       0\n",
              "Sentiment           0\n",
              "dtype: int64"
            ]
          },
          "metadata": {},
          "execution_count": 5
        }
      ]
    },
    {
      "cell_type": "markdown",
      "metadata": {
        "id": "NIKehci2mGmX"
      },
      "source": [
        "Makine öğrenmesi sırasında gönderiyi paylaşan kullanıcının adı, sayfa adı, mekan adı ve paylaşma tarihi bilgilerinin bir önemi olmadığı için bu sütunları çıkarıyorum."
      ]
    },
    {
      "cell_type": "code",
      "metadata": {
        "colab": {
          "base_uri": "https://localhost:8080/",
          "height": 423
        },
        "id": "WP2boaLBlGzQ",
        "outputId": "2dd3002c-ee85-4018-ab8f-aab1bad06140"
      },
      "source": [
        "columns = [\"UserName\", \"ScreenName\", \"Location\", \"TweetAt\"] #sütunları belirt\n",
        "data.drop(columns, axis = 1, inplace = True) #belirtilen sütunları çıkart\n",
        "data"
      ],
      "execution_count": null,
      "outputs": [
        {
          "output_type": "execute_result",
          "data": {
            "text/html": [
              "<div>\n",
              "<style scoped>\n",
              "    .dataframe tbody tr th:only-of-type {\n",
              "        vertical-align: middle;\n",
              "    }\n",
              "\n",
              "    .dataframe tbody tr th {\n",
              "        vertical-align: top;\n",
              "    }\n",
              "\n",
              "    .dataframe thead th {\n",
              "        text-align: right;\n",
              "    }\n",
              "</style>\n",
              "<table border=\"1\" class=\"dataframe\">\n",
              "  <thead>\n",
              "    <tr style=\"text-align: right;\">\n",
              "      <th></th>\n",
              "      <th>OriginalTweet</th>\n",
              "      <th>Sentiment</th>\n",
              "    </tr>\n",
              "  </thead>\n",
              "  <tbody>\n",
              "    <tr>\n",
              "      <th>0</th>\n",
              "      <td>@MeNyrbie @Phil_Gahan @Chrisitv https://t.co/i...</td>\n",
              "      <td>Neutral</td>\n",
              "    </tr>\n",
              "    <tr>\n",
              "      <th>1</th>\n",
              "      <td>advice Talk to your neighbours family to excha...</td>\n",
              "      <td>Positive</td>\n",
              "    </tr>\n",
              "    <tr>\n",
              "      <th>2</th>\n",
              "      <td>Coronavirus Australia: Woolworths to give elde...</td>\n",
              "      <td>Positive</td>\n",
              "    </tr>\n",
              "    <tr>\n",
              "      <th>3</th>\n",
              "      <td>My food stock is not the only one which is emp...</td>\n",
              "      <td>Positive</td>\n",
              "    </tr>\n",
              "    <tr>\n",
              "      <th>4</th>\n",
              "      <td>Me, ready to go at supermarket during the #COV...</td>\n",
              "      <td>Extremely Negative</td>\n",
              "    </tr>\n",
              "    <tr>\n",
              "      <th>...</th>\n",
              "      <td>...</td>\n",
              "      <td>...</td>\n",
              "    </tr>\n",
              "    <tr>\n",
              "      <th>41152</th>\n",
              "      <td>Airline pilots offering to stock supermarket s...</td>\n",
              "      <td>Neutral</td>\n",
              "    </tr>\n",
              "    <tr>\n",
              "      <th>41153</th>\n",
              "      <td>Response to complaint not provided citing COVI...</td>\n",
              "      <td>Extremely Negative</td>\n",
              "    </tr>\n",
              "    <tr>\n",
              "      <th>41154</th>\n",
              "      <td>You know itÂs getting tough when @KameronWild...</td>\n",
              "      <td>Positive</td>\n",
              "    </tr>\n",
              "    <tr>\n",
              "      <th>41155</th>\n",
              "      <td>Is it wrong that the smell of hand sanitizer i...</td>\n",
              "      <td>Neutral</td>\n",
              "    </tr>\n",
              "    <tr>\n",
              "      <th>41156</th>\n",
              "      <td>@TartiiCat Well new/used Rift S are going for ...</td>\n",
              "      <td>Negative</td>\n",
              "    </tr>\n",
              "  </tbody>\n",
              "</table>\n",
              "<p>41157 rows × 2 columns</p>\n",
              "</div>"
            ],
            "text/plain": [
              "                                           OriginalTweet           Sentiment\n",
              "0      @MeNyrbie @Phil_Gahan @Chrisitv https://t.co/i...             Neutral\n",
              "1      advice Talk to your neighbours family to excha...            Positive\n",
              "2      Coronavirus Australia: Woolworths to give elde...            Positive\n",
              "3      My food stock is not the only one which is emp...            Positive\n",
              "4      Me, ready to go at supermarket during the #COV...  Extremely Negative\n",
              "...                                                  ...                 ...\n",
              "41152  Airline pilots offering to stock supermarket s...             Neutral\n",
              "41153  Response to complaint not provided citing COVI...  Extremely Negative\n",
              "41154  You know itÂs getting tough when @KameronWild...            Positive\n",
              "41155  Is it wrong that the smell of hand sanitizer i...             Neutral\n",
              "41156  @TartiiCat Well new/used Rift S are going for ...            Negative\n",
              "\n",
              "[41157 rows x 2 columns]"
            ]
          },
          "metadata": {},
          "execution_count": 6
        }
      ]
    },
    {
      "cell_type": "code",
      "metadata": {
        "colab": {
          "base_uri": "https://localhost:8080/"
        },
        "id": "bctAkJXJQGm6",
        "outputId": "fcbd25e0-70da-40df-dabf-b88aae97e6c7"
      },
      "source": [
        "#Hangi tip yorumdan kaç adet var?\n",
        "data[\"Sentiment\"].value_counts()"
      ],
      "execution_count": null,
      "outputs": [
        {
          "output_type": "execute_result",
          "data": {
            "text/plain": [
              "Positive              11422\n",
              "Negative               9917\n",
              "Neutral                7713\n",
              "Extremely Positive     6624\n",
              "Extremely Negative     5481\n",
              "Name: Sentiment, dtype: int64"
            ]
          },
          "metadata": {},
          "execution_count": 7
        }
      ]
    },
    {
      "cell_type": "code",
      "metadata": {
        "colab": {
          "base_uri": "https://localhost:8080/"
        },
        "id": "8wYKa6W-l246",
        "outputId": "63f4b61c-4dee-49f1-d4fb-f6fdbaa7845f"
      },
      "source": [
        "#Sınıflandırmayı basitleştirmek için sınıf sayısını üçe düşürüyorum.\n",
        "data = data.replace({'Sentiment': {\"Positive\": 1, \"Extremely Positive\": 1, \"Neutral\": 0, \"Negative\": -1, \"Extremely Negative\": -1}})\n",
        "data[\"Sentiment\"].value_counts() #Kaç adet sınıf var?"
      ],
      "execution_count": null,
      "outputs": [
        {
          "output_type": "execute_result",
          "data": {
            "text/plain": [
              " 1    18046\n",
              "-1    15398\n",
              " 0     7713\n",
              "Name: Sentiment, dtype: int64"
            ]
          },
          "metadata": {},
          "execution_count": 8
        }
      ]
    },
    {
      "cell_type": "code",
      "metadata": {
        "colab": {
          "base_uri": "https://localhost:8080/",
          "height": 206
        },
        "id": "umXgFSd8qVs6",
        "outputId": "1f27b6b5-80fd-44ea-8e85-473ebbf7c76d"
      },
      "source": [
        "#Son beş veriyi gösterir.\n",
        "data.tail()"
      ],
      "execution_count": null,
      "outputs": [
        {
          "output_type": "execute_result",
          "data": {
            "text/html": [
              "<div>\n",
              "<style scoped>\n",
              "    .dataframe tbody tr th:only-of-type {\n",
              "        vertical-align: middle;\n",
              "    }\n",
              "\n",
              "    .dataframe tbody tr th {\n",
              "        vertical-align: top;\n",
              "    }\n",
              "\n",
              "    .dataframe thead th {\n",
              "        text-align: right;\n",
              "    }\n",
              "</style>\n",
              "<table border=\"1\" class=\"dataframe\">\n",
              "  <thead>\n",
              "    <tr style=\"text-align: right;\">\n",
              "      <th></th>\n",
              "      <th>OriginalTweet</th>\n",
              "      <th>Sentiment</th>\n",
              "    </tr>\n",
              "  </thead>\n",
              "  <tbody>\n",
              "    <tr>\n",
              "      <th>41152</th>\n",
              "      <td>Airline pilots offering to stock supermarket s...</td>\n",
              "      <td>0</td>\n",
              "    </tr>\n",
              "    <tr>\n",
              "      <th>41153</th>\n",
              "      <td>Response to complaint not provided citing COVI...</td>\n",
              "      <td>-1</td>\n",
              "    </tr>\n",
              "    <tr>\n",
              "      <th>41154</th>\n",
              "      <td>You know itÂs getting tough when @KameronWild...</td>\n",
              "      <td>1</td>\n",
              "    </tr>\n",
              "    <tr>\n",
              "      <th>41155</th>\n",
              "      <td>Is it wrong that the smell of hand sanitizer i...</td>\n",
              "      <td>0</td>\n",
              "    </tr>\n",
              "    <tr>\n",
              "      <th>41156</th>\n",
              "      <td>@TartiiCat Well new/used Rift S are going for ...</td>\n",
              "      <td>-1</td>\n",
              "    </tr>\n",
              "  </tbody>\n",
              "</table>\n",
              "</div>"
            ],
            "text/plain": [
              "                                           OriginalTweet  Sentiment\n",
              "41152  Airline pilots offering to stock supermarket s...          0\n",
              "41153  Response to complaint not provided citing COVI...         -1\n",
              "41154  You know itÂs getting tough when @KameronWild...          1\n",
              "41155  Is it wrong that the smell of hand sanitizer i...          0\n",
              "41156  @TartiiCat Well new/used Rift S are going for ...         -1"
            ]
          },
          "metadata": {},
          "execution_count": 9
        }
      ]
    },
    {
      "cell_type": "code",
      "metadata": {
        "colab": {
          "base_uri": "https://localhost:8080/"
        },
        "id": "04zj76mnrRv8",
        "outputId": "5b6b393b-0f2a-48bf-edd9-fbe947f0a431"
      },
      "source": [
        "#Etiketler ayrı bir DataFrame'de tutulacak.\n",
        "y = data[\"Sentiment\"] #y DataFrame'ine veriyi at.\n",
        "data.drop([\"Sentiment\"], axis = 1, inplace = True) #Asıl veriden y'yi çıkart. \n",
        "y"
      ],
      "execution_count": null,
      "outputs": [
        {
          "output_type": "execute_result",
          "data": {
            "text/plain": [
              "0        0\n",
              "1        1\n",
              "2        1\n",
              "3        1\n",
              "4       -1\n",
              "        ..\n",
              "41152    0\n",
              "41153   -1\n",
              "41154    1\n",
              "41155    0\n",
              "41156   -1\n",
              "Name: Sentiment, Length: 41157, dtype: int64"
            ]
          },
          "metadata": {},
          "execution_count": 10
        }
      ]
    },
    {
      "cell_type": "code",
      "metadata": {
        "id": "nez9QES8tFEC",
        "colab": {
          "base_uri": "https://localhost:8080/"
        },
        "outputId": "b3422afc-ab57-4554-bd3a-d190a077dc6b"
      },
      "source": [
        "#Yorum ve durumu\n",
        "for i in range(5):\n",
        "  random_sayi = np.random.randint(0, data.shape[0]) #rastgele yorum seç\n",
        "  print(data[\"OriginalTweet\"][random_sayi] + \" : \" + str(y[random_sayi])) #yazdır"
      ],
      "execution_count": null,
      "outputs": [
        {
          "output_type": "stream",
          "name": "stdout",
          "text": [
            "\"Consumer Sentiment Collapses Amid Massive Job Loss\"  https://t.co/MC6OlgcX4w  The unprecedented economic impact of the COVID-19 outbreak is crushing the labor market and consumer sentiment. : -1\n",
            "Changes are coming. Is your brand ready? #HarmonicRetail #RetailEvolution #Retail #Retailing #RetailNews #RetailChanges #Covid19 #RetailExperience #InStoreExperience #BrickAndMortar https://t.co/YMuX3KoEs4 : 1\n",
            "IÂm urging congress to provide aide to small business in tonightÂs bill. LetÂs keep employees on payroll &amp; stabilize unemployment until #coronavirus is over.\r\r\n",
            "\r\r\n",
            "Small biz employs 2/3 of workers, and 98% of our trade is conducted by small biz. 95% of consumer market is outside US. https://t.co/q2YIb01jU8 : -1\n",
            "Prices Will inflation make a comeback after the crisis ends By Miles amp Scott on org Answer it is possible but far from clear : 1\n",
            "If this description of what it's like to die from Coronavirus doesn't make you #StayHome nothing will. https://t.co/KbhI2y9JhT : -1\n"
          ]
        }
      ]
    },
    {
      "cell_type": "markdown",
      "metadata": {
        "id": "Rq7gYNveSEAZ"
      },
      "source": [
        "# **Veri Ön İşlemesi**\n",
        "\n",
        "Kullanılacak veri setinin SVM modeline verilmeden önce birtakım ön işlemlerden geçmesi gerekmektedir. Örneğin gereksiz kelimelerin (site adları, rastgele rakamlar) kaldırılması, çoğul kelimelerin tekilleştirilmesi, anlamsız kelimelerin çıkarılması (will, was, the gibi) ve string tipindeki tweetlerin sayısallaştırılması gerekmektedir."
      ]
    },
    {
      "cell_type": "code",
      "metadata": {
        "colab": {
          "base_uri": "https://localhost:8080/"
        },
        "id": "tK5dZpmXShnU",
        "outputId": "610bb3be-500e-4fab-e491-6b307ccadbf5"
      },
      "source": [
        "#Gerekli doğal dil işleme paketlerini ekliyoruz.\n",
        "from nltk.stem import WordNetLemmatizer\n",
        "import nltk\n",
        "#nltk içerisindeki gerekli paketleri indirir.\n",
        "nltk.download('stopwords')\n",
        "nltk.download('punkt')\n",
        "nltk.download('wordnet')\n",
        "from nltk.corpus import stopwords\n",
        "import re\n",
        "\n"
      ],
      "execution_count": null,
      "outputs": [
        {
          "output_type": "stream",
          "name": "stdout",
          "text": [
            "[nltk_data] Downloading package stopwords to /root/nltk_data...\n",
            "[nltk_data]   Unzipping corpora/stopwords.zip.\n",
            "[nltk_data] Downloading package punkt to /root/nltk_data...\n",
            "[nltk_data]   Unzipping tokenizers/punkt.zip.\n",
            "[nltk_data] Downloading package wordnet to /root/nltk_data...\n",
            "[nltk_data]   Unzipping corpora/wordnet.zip.\n"
          ]
        }
      ]
    },
    {
      "cell_type": "code",
      "metadata": {
        "id": "7OpodevXVWBL"
      },
      "source": [
        "yeni_data = [] #sadeleştirilmiş kelimeleri içerecek dizi\n",
        "lemmatizer = WordNetLemmatizer()\n",
        "stop_words = stopwords.words(\"english\") #ingilizce olan anlamsız kelimeleri çıkarır\n",
        "\n",
        "for text in data[\"OriginalTweet\"]:\n",
        "  #Linkleri çıkarır.\n",
        "  text = re.sub(r'http\\S+', '', text)\n",
        "  #Özel harfleri çıkarır.\n",
        "  text = re.sub(\"[^a-zA-Z0-9]\",\" \",text)\n",
        "\n",
        "  # Tokenize ve lemmatize eder.\n",
        "  #Lemmatize etmek, kelimeyi kök haline döndürür. \n",
        "  #Örneğin \"caring\" kelimesini \"care\" haline dönüştürür.\n",
        "  text = nltk.word_tokenize(text.lower())\n",
        "  text = [lemmatizer.lemmatize(word) for word in text]\n",
        "\n",
        "  #Anlamsız kelimeler çıkarılır.\n",
        "  text = [kelime for kelime in text if kelime not in stop_words]\n",
        "\n",
        "  #Birleştirme\n",
        "  text = \" \".join(text)\n",
        "\n",
        "  yeni_data.append(text)"
      ],
      "execution_count": null,
      "outputs": []
    },
    {
      "cell_type": "code",
      "metadata": {
        "colab": {
          "base_uri": "https://localhost:8080/"
        },
        "id": "jqaRIK_FV3Xu",
        "outputId": "57893d52-f380-4644-9a46-838d191d7a68"
      },
      "source": [
        "#Temizlenmiş verileri yazdır.\n",
        "for i in range(5):\n",
        "  random_sayi = np.random.randint(0, data.shape[0])\n",
        "  print(yeni_data[random_sayi] + \" : \" + str(y[random_sayi]))\n"
      ],
      "execution_count": null,
      "outputs": [
        {
          "output_type": "stream",
          "name": "stdout",
          "text": [
            "asian stock rose second day row knight frank predicts house price might fall much expected read briefing update sign email : 0\n",
            "panic buying demerit merit face mask sanitizers medical personal food supply world ha seen panic buying surge many coun covid19 pakistan coronavirusinpakistan coronavirus quarantinelife lockdown21 : -1\n",
            "stop panic buying normal shop e g self isolation get friend neighbour family member help causing unnecessary serious problem time need focus coronavirus whether buy food etc : -1\n",
            "safest job america uninsured supermarket grocerystore bagger healthy know msnbc foxnews nytimes cnn wsj cnbc politico huffpost drudge bbc gop npr dailykos thehill wapo nbc cbs ap slate aarp fed covid 19 realdonaldtrump nyc : 1\n",
            "rv blandin tsxman figure 3 letter break natgas demand u covid 19 crisis residential demand increase account 21 total natural gas demand demand decreasing nyse gas p : -1\n"
          ]
        }
      ]
    },
    {
      "cell_type": "markdown",
      "metadata": {
        "id": "UFp1gEx7WIEW"
      },
      "source": [
        "Kelimelerin sayısallaştırılıp işlenebilir hale getirilmiş hali, Bag of Words olarak bilinir.\n",
        "\n",
        "Örnek bir Bag of Words şu şekildedir:\n",
        "\n",
        "<img src=\"https://cdn.analyticsvidhya.com/wp-content/uploads/2020/02/BoWBag-of-Words-model-2.png\">"
      ]
    },
    {
      "cell_type": "code",
      "metadata": {
        "id": "0lNgT55DW3U8"
      },
      "source": [
        "#Bag of Words haline getirmek için gerekli import yapılır\n",
        "from sklearn.feature_extraction.text import CountVectorizer"
      ],
      "execution_count": null,
      "outputs": []
    },
    {
      "cell_type": "code",
      "metadata": {
        "id": "QXuGayFrXL2Q"
      },
      "source": [
        "#On bin kelimelik bir Bag of Words olacak.\n",
        "vectorizer = CountVectorizer(max_features=10000)\n",
        "bag_of_words = vectorizer.fit_transform(yeni_data)"
      ],
      "execution_count": null,
      "outputs": []
    },
    {
      "cell_type": "code",
      "metadata": {
        "colab": {
          "base_uri": "https://localhost:8080/"
        },
        "id": "OakCBeKIXQRd",
        "outputId": "6e8e8f16-f95b-40f7-f612-acfc69d64c70"
      },
      "source": [
        "#Veri seti eğitim ve test için bölünür.\n",
        "from sklearn.model_selection import train_test_split\n",
        "x_train,x_test,y_train,y_test = train_test_split(bag_of_words, np.asarray(y), test_size=0.25)\n",
        "\n",
        "print(x_train.shape)\n",
        "print(x_test.shape)\n",
        "print(y_train.shape)\n",
        "print(y_test.shape)"
      ],
      "execution_count": null,
      "outputs": [
        {
          "output_type": "stream",
          "name": "stdout",
          "text": [
            "(30867, 10000)\n",
            "(10290, 10000)\n",
            "(30867,)\n",
            "(10290,)\n"
          ]
        }
      ]
    },
    {
      "cell_type": "markdown",
      "metadata": {
        "id": "QDQccJGp23JE"
      },
      "source": [
        "# **Support Vector Machine İle Sınıflandırma**"
      ]
    },
    {
      "cell_type": "code",
      "metadata": {
        "colab": {
          "base_uri": "https://localhost:8080/"
        },
        "id": "5v3ZFR1oXUA5",
        "outputId": "a4512745-2b22-4f2e-b47e-c556d185792d"
      },
      "source": [
        "from sklearn.svm import SVC\n",
        "#Model oluşturulur.\n",
        "model = SVC()\n",
        "#Model eğitimi yapılır. Bu işlem biraz uzun sürebilir.\n",
        "model.fit(x_train, y_train)"
      ],
      "execution_count": null,
      "outputs": [
        {
          "output_type": "execute_result",
          "data": {
            "text/plain": [
              "SVC()"
            ]
          },
          "metadata": {},
          "execution_count": 16
        }
      ]
    },
    {
      "cell_type": "code",
      "metadata": {
        "id": "e2gKT6JnXq2O"
      },
      "source": [
        "#Tahminler yapılır.\n",
        "predictions = model.predict(x_test)"
      ],
      "execution_count": null,
      "outputs": []
    },
    {
      "cell_type": "code",
      "metadata": {
        "colab": {
          "base_uri": "https://localhost:8080/"
        },
        "id": "P-nsmrijfXkk",
        "outputId": "f6442387-3cae-44ca-c0e1-03497a3b31c0"
      },
      "source": [
        "#Değerlendirme için Confusion Matriks'ini bul.\n",
        "from sklearn.metrics import accuracy_score,confusion_matrix\n",
        "print(f\"Modelin accuracy değeri: {accuracy_score(y_test, predictions)}\")\n",
        "conf_matrix = confusion_matrix(y_test, predictions)\n",
        "conf_matrix"
      ],
      "execution_count": null,
      "outputs": [
        {
          "output_type": "stream",
          "name": "stdout",
          "text": [
            "Modelin accuracy değeri: 0.7687074829931972\n"
          ]
        },
        {
          "output_type": "execute_result",
          "data": {
            "text/plain": [
              "array([[2888,  282,  636],\n",
              "       [ 315, 1261,  363],\n",
              "       [ 494,  290, 3761]])"
            ]
          },
          "metadata": {},
          "execution_count": 18
        }
      ]
    },
    {
      "cell_type": "code",
      "metadata": {
        "colab": {
          "base_uri": "https://localhost:8080/",
          "height": 284
        },
        "id": "Oj11-nL1UiAj",
        "outputId": "21869ed4-728c-438f-b508-a4fee3bfa3ef"
      },
      "source": [
        "#Daha iyi bir görselleştirme için seaborn kütüphanesini kullandım.\n",
        "import seaborn as sns\n",
        "sns.heatmap(conf_matrix/np.sum(conf_matrix), annot=True, \n",
        "            fmt='.1%', cmap='Blues')"
      ],
      "execution_count": null,
      "outputs": [
        {
          "output_type": "execute_result",
          "data": {
            "text/plain": [
              "<matplotlib.axes._subplots.AxesSubplot at 0x7f4c7ae92a50>"
            ]
          },
          "metadata": {},
          "execution_count": 20
        },
        {
          "output_type": "display_data",
          "data": {
            "image/png": "[encoded data removed]",
            "text/plain": [
              "<Figure size 432x288 with 2 Axes>"
            ]
          },
          "metadata": {
            "needs_background": "light"
          }
        }
      ]
    },
    {
      "cell_type": "code",
      "metadata": {
        "colab": {
          "base_uri": "https://localhost:8080/",
          "height": 36
        },
        "id": "S7oiz85LHdpj",
        "outputId": "1ca69041-c9ea-4d24-c594-a8f4221a56dd"
      },
      "source": [
        "#Kendi oluşturduğum rastgele bir cümleyi test edeceğim.\n",
        "#Bundan dolayı tekrardan ön işlemlerden geçmesi gerekli.\n",
        "text = \"It has a really bad effect on children's education.\"\n",
        "text = re.sub(r'http\\S+', '', text)\n",
        "#Özel harfleri çıkarır.\n",
        "text = re.sub(\"[^a-zA-Z0-9]\",\" \",text)\n",
        "# Tokenize ve lemmatize eder.\n",
        "text = nltk.word_tokenize(text.lower())\n",
        "text = [lemmatizer.lemmatize(word) for word in text]\n",
        "\n",
        "#Anlamsız kelimeler çıkarılır.\n",
        "text = [kelime for kelime in text if kelime not in stop_words]\n",
        "\n",
        "#Birleştirme\n",
        "text = \" \".join(text)\n",
        "text"
      ],
      "execution_count": null,
      "outputs": [
        {
          "output_type": "execute_result",
          "data": {
            "application/vnd.google.colaboratory.intrinsic+json": {
              "type": "string"
            },
            "text/plain": [
              "'ha really bad effect child education'"
            ]
          },
          "metadata": {},
          "execution_count": 21
        }
      ]
    },
    {
      "cell_type": "code",
      "metadata": {
        "colab": {
          "base_uri": "https://localhost:8080/"
        },
        "id": "qbatsFbyLRzp",
        "outputId": "acce7bbb-b30e-4539-eed4-ab9a4d6a8dca"
      },
      "source": [
        "#Textimi 10000 kelime dağarcığına sahip bag of words'e çevirdim.\n",
        "text_final = vectorizer.transform([text])\n",
        "text_final.shape"
      ],
      "execution_count": null,
      "outputs": [
        {
          "output_type": "execute_result",
          "data": {
            "text/plain": [
              "(1, 10000)"
            ]
          },
          "metadata": {},
          "execution_count": 22
        }
      ]
    },
    {
      "cell_type": "code",
      "metadata": {
        "colab": {
          "base_uri": "https://localhost:8080/"
        },
        "id": "m9Lrr3owL2A9",
        "outputId": "b8e7fc8d-60ed-419c-cff0-f1a955cecdf3"
      },
      "source": [
        "#Cümlem negatif olarak tahmin edildi.\n",
        "prediction = model.predict(text_final)\n",
        "prediction[0]"
      ],
      "execution_count": null,
      "outputs": [
        {
          "output_type": "execute_result",
          "data": {
            "text/plain": [
              "-1"
            ]
          },
          "metadata": {},
          "execution_count": 23
        }
      ]
    },
    {
      "cell_type": "markdown",
      "metadata": {
        "id": "iBYniovF29Sk"
      },
      "source": [
        "# **Random Forest İle Sınıflandırma**\n",
        "Birden fazla karar ağacı barındıran, rastgele olarak seçilmiş ağaçların çıktılarını birleştirip en iyi sonucu üretmeye çalışan algoritmadır. Parametre olarak ağaç sayısını almaktadır. En iyi ağaç sayısını üretmek için Elbow Tekniği'ne benzer bir yaklaşımla sonuç elde edilir.\n",
        "\n",
        "<img src=\"https://miro.medium.com/max/690/1*eucTQhlYKFSFw1r4iSkS_g.png\">\n",
        "\n",
        "Random Forest'ın gücü, birbiriyle düşük ilişkili ağaçların, aynı sonucu üretmesinden kaynaklanır. Bunu sağlayan nedense, ağaçların kendilerine özgü hataları diğer ağaçların önlemesidir. Bir ağacın yanlış tahmini, birden çok doğru tahmin veren ağacı etkileyemeyecektir.\n",
        "\n",
        "<img src=\"https://cdn.analyticsvidhya.com/wp-content/uploads/2020/02/rfc_vs_dt1.png\">"
      ]
    },
    {
      "cell_type": "code",
      "metadata": {
        "id": "Uwx7nEGAg8Nl"
      },
      "source": [
        "from sklearn.ensemble import RandomForestClassifier\n",
        "rf_model = RandomForestClassifier(n_estimators = 200, random_state = 42)"
      ],
      "execution_count": null,
      "outputs": []
    },
    {
      "cell_type": "code",
      "metadata": {
        "colab": {
          "base_uri": "https://localhost:8080/"
        },
        "id": "6IV5NXOQjGqP",
        "outputId": "835bb95a-0349-4671-e41f-396cdda376f6"
      },
      "source": [
        "rf_model.fit(x_train, y_train)"
      ],
      "execution_count": null,
      "outputs": [
        {
          "output_type": "execute_result",
          "data": {
            "text/plain": [
              "RandomForestClassifier(n_estimators=200, random_state=42)"
            ]
          },
          "metadata": {},
          "execution_count": 48
        }
      ]
    },
    {
      "cell_type": "code",
      "metadata": {
        "id": "mtbMhpW0rA8z"
      },
      "source": [
        "#Birden fazla ağaç sayısı denenerek en iyi sonuç aranacak.\n",
        "agac_sayilari = [100, 250, 500, 750]\n",
        "scores = []\n",
        "for estimator in agac_sayilari:\n",
        "  rf_model = RandomForestClassifier(n_estimators = estimator, random_state = 42)\n",
        "  rf_model.fit(x_train, y_train)\n",
        "  #Score, ortalama accuracy değerini döndürür.\n",
        "  score = rf_model.score(x_test, y_test)\n",
        "  scores.append(score)"
      ],
      "execution_count": null,
      "outputs": []
    },
    {
      "cell_type": "code",
      "metadata": {
        "colab": {
          "base_uri": "https://localhost:8080/",
          "height": 281
        },
        "id": "ZuHzfvbeWRsu",
        "outputId": "925f3620-f0c8-4206-ac77-7d0b60c94499"
      },
      "source": [
        "#Elbow Tekniği ile Ağaç Sayısı ve Skor karşılaştırma\n",
        "plt.plot(agac_sayilari, scores)\n",
        "plt.xlabel('Ağaç Sayısı')\n",
        "plt.ylabel('Accuracy')\n",
        "plt.show()"
      ],
      "execution_count": null,
      "outputs": [
        {
          "output_type": "display_data",
          "data": {
            "image/png": "[encoded data removed]",
            "text/plain": [
              "<Figure size 432x288 with 1 Axes>"
            ]
          },
          "metadata": {
            "needs_background": "light"
          }
        }
      ]
    },
    {
      "cell_type": "code",
      "metadata": {
        "colab": {
          "base_uri": "https://localhost:8080/"
        },
        "id": "8_s3zyazrnP5",
        "outputId": "c146b092-0730-49da-c1b1-835f116350b7"
      },
      "source": [
        "#Verilen estimator değerlerine bakıldığında, çok az bir fark görülmektedir.\n",
        "for i in range(len(agac_sayilari)):\n",
        "  print(f\"{agac_sayilari[i]} Estimator - {scores[i]} Score\")"
      ],
      "execution_count": null,
      "outputs": [
        {
          "output_type": "stream",
          "name": "stdout",
          "text": [
            "100 Estimator - 0.7602526724975704 Score\n",
            "250 Estimator - 0.7675413022351798 Score\n",
            "500 Estimator - 0.7696793002915452 Score\n",
            "750 Estimator - 0.7695821185617104 Score\n"
          ]
        }
      ]
    },
    {
      "cell_type": "code",
      "metadata": {
        "colab": {
          "base_uri": "https://localhost:8080/"
        },
        "id": "tJ_1I8ChjX84",
        "outputId": "8ee8a6cf-fbd9-4d83-efe1-c69bc354624f"
      },
      "source": [
        "predictions = rf_model.predict(x_test)\n",
        "conf_matrix = confusion_matrix(y_test, predictions)\n",
        "conf_matrix"
      ],
      "execution_count": null,
      "outputs": [
        {
          "output_type": "execute_result",
          "data": {
            "text/plain": [
              "array([[2772,  312,  722],\n",
              "       [ 228, 1417,  294],\n",
              "       [ 504,  311, 3730]])"
            ]
          },
          "metadata": {},
          "execution_count": 30
        }
      ]
    },
    {
      "cell_type": "code",
      "source": [
        "sns.heatmap(conf_matrix/np.sum(conf_matrix), annot=True, \n",
        "            fmt='.1%', cmap='Blues')"
      ],
      "metadata": {
        "colab": {
          "base_uri": "https://localhost:8080/",
          "height": 284
        },
        "id": "KF-cr4T55UFF",
        "outputId": "4c15ebca-299c-47d8-8501-76f97d57fa60"
      },
      "execution_count": null,
      "outputs": [
        {
          "output_type": "execute_result",
          "data": {
            "text/plain": [
              "<matplotlib.axes._subplots.AxesSubplot at 0x7f4c7a67a090>"
            ]
          },
          "metadata": {},
          "execution_count": 31
        },
        {
          "output_type": "display_data",
          "data": {
            "image/png": "[encoded data removed]",
            "text/plain": [
              "<Figure size 432x288 with 2 Axes>"
            ]
          },
          "metadata": {
            "needs_background": "light"
          }
        }
      ]
    },
    {
      "cell_type": "code",
      "source": [
        "print(text)\n",
        "text_final"
      ],
      "metadata": {
        "colab": {
          "base_uri": "https://localhost:8080/"
        },
        "id": "aPyWY1Y15nSa",
        "outputId": "d5486274-801e-4114-d3ad-bc89ccefe058"
      },
      "execution_count": null,
      "outputs": [
        {
          "output_type": "stream",
          "name": "stdout",
          "text": [
            "ha really bad effect child education\n"
          ]
        },
        {
          "output_type": "execute_result",
          "data": {
            "text/plain": [
              "<1x10000 sparse matrix of type '<class 'numpy.int64'>'\n",
              "\twith 6 stored elements in Compressed Sparse Row format>"
            ]
          },
          "metadata": {},
          "execution_count": 35
        }
      ]
    },
    {
      "cell_type": "code",
      "source": [
        "prediction = model.predict(text_final)\n",
        "prediction[0]"
      ],
      "metadata": {
        "colab": {
          "base_uri": "https://localhost:8080/"
        },
        "id": "WIaTLmls5cmk",
        "outputId": "3d3547f9-ff1c-4bf3-b0b2-64269f80e6b8"
      },
      "execution_count": null,
      "outputs": [
        {
          "output_type": "execute_result",
          "data": {
            "text/plain": [
              "-1"
            ]
          },
          "metadata": {},
          "execution_count": 33
        }
      ]
    }
  ]
}